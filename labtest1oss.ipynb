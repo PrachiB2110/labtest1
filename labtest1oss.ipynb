{
 "cells": [
  {
   "cell_type": "code",
   "execution_count": 3,
   "metadata": {},
   "outputs": [
    {
     "name": "stdout",
     "output_type": "stream",
     "text": [
      "Patients assigned to doctor 101:\n",
      "[(1, 'Prachi', 101, '19 years', 'Typhoid', 'Admit', 'Room1',  500.)\n",
      " (3, 'Sumit', 101, '22 years', 'Malaria', 'Crocin', 'Room3',  300.)\n",
      " (5, 'Advika', 101, '16 yeaRS', 'Food poisoning', 'liquids', 'Room5', 1200.)]\n",
      "\n",
      " Updating treatment for patient with ID 1:\n",
      "[(1, 'Prachi', 101, '19 years', 'Typhoid', 'New Treatment', 'Room1', 500.)]\n",
      "\n",
      " Doctor with maximum and minimum assigned patients:\n",
      "(101, 102)\n",
      "\n",
      " Patients with maximum and minimum bill:\n",
      "((2, 'Hardik', 102, '20 years', 'Dengue', 'Dolo', 'Room2', 1500.), (3, 'Sumit', 101, '22 years', 'Malaria', 'Crocin', 'Room3', 300.))\n"
     ]
    }
   ],
   "source": [
    "import numpy as np\n",
    "\n",
    "dtype_patient = [('patient_id', 'i4'), ('name', 'U50'), ('doctor_id', 'i4'), ('personal_info', 'U100'), \n",
    "                 ('medical_history', 'U100'), ('treatment', 'U100'), ('room', 'U10'), ('total_bill', 'f4')]\n",
    "\n",
    "Patient_list = np.array([\n",
    "    (1, 'Prachi', 101, '19 years', 'Typhoid', 'Admit', 'Room1', 500.0),\n",
    "    (2, 'Hardik', 102, '20 years', 'Dengue', 'Dolo', 'Room2', 1500.0),\n",
    "    (3, 'Sumit', 101, '22 years', 'Malaria', 'Crocin', 'Room3', 300.0),\n",
    "    (4, 'Damanjit', 103, '18 years', 'Viral', 'Parcetamol', 'Room4', 700.50),\n",
    "    (5, 'Advika', 101, '16 yeaRS', 'Food poisoning', 'liquids', 'Room5', 1200.0)\n",
    "], dtype=dtype_patient)\n",
    "\n",
    "dtype_doctor = [('doctor_id', 'i4'), ('name', 'U50'), ('specialization', 'U50')]\n",
    "\n",
    "Doctor_list = np.array([\n",
    "    (101, 'Dr. Deepak', 'Cardiology'),\n",
    "    (102, 'Dr. Strange', 'Neurology'),\n",
    "    (103, 'Dr. Iron Man', 'Orthopedics')\n",
    "], dtype=dtype_doctor)\n",
    "\n",
    "\n",
    "def find_patients(doctor_id):\n",
    "    return Patient_list[Patient_list['doctor_id'] == doctor_id]\n",
    "def update_treatment(patient_id, new_treatment):\n",
    "    Patient_list['treatment'][Patient_list['patient_id'] == patient_id] = new_treatment\n",
    "def doctor_with_max_min_patients():\n",
    "    unique, counts = np.unique(Patient_list['doctor_id'], return_counts=True)\n",
    "    max_id = np.argmax(counts)\n",
    "    min_id = np.argmin(counts)\n",
    "    return unique[max_id], unique[min_id]\n",
    "def patients_with_max_min_bill():\n",
    "    max_id = np.argmax(Patient_list['total_bill'])\n",
    "    min_id = np.argmin(Patient_list['total_bill'])\n",
    "    return Patient_list[max_id], Patient_list[min_id]\n",
    "\n",
    "print(\"Patients assigned to doctor 101:\")\n",
    "print(find_patients(101))\n",
    "\n",
    "print(\"\\n Updating treatment for patient with ID 1:\")\n",
    "update_treatment(1, 'New Treatment')\n",
    "print(Patient_list[Patient_list['patient_id'] == 1])\n",
    "\n",
    "print(\"\\n Doctor with maximum and minimum assigned patients:\")\n",
    "print(doctor_with_max_min_patients())\n",
    "\n",
    "print(\"\\n Patients with maximum and minimum bill:\")\n",
    "print(patients_with_max_min_bill())"
   ]
  },
  {
   "cell_type": "code",
   "execution_count": null,
   "metadata": {},
   "outputs": [],
   "source": []
  }
 ],
 "metadata": {
  "kernelspec": {
   "display_name": "Python 3",
   "language": "python",
   "name": "python3"
  },
  "language_info": {
   "codemirror_mode": {
    "name": "ipython",
    "version": 3
   },
   "file_extension": ".py",
   "mimetype": "text/x-python",
   "name": "python",
   "nbconvert_exporter": "python",
   "pygments_lexer": "ipython3",
   "version": "3.7.3"
  }
 },
 "nbformat": 4,
 "nbformat_minor": 2
}
